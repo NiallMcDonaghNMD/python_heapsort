{
 "cells": [
  {
   "cell_type": "markdown",
   "id": "93c51921",
   "metadata": {},
   "source": [
    "## Heap sort\n",
    "\n",
    "<h2> Lists in Python \n",
    "    "
   ]
  },
  {
   "cell_type": "code",
   "execution_count": 1,
   "id": "227ef927",
   "metadata": {},
   "outputs": [],
   "source": [
    "# Lists created using square bracket, indexed from zero per usual\n",
    "L = [1,2,3,\"Hello, world!\", None, True]"
   ]
  },
  {
   "cell_type": "code",
   "execution_count": 2,
   "id": "c153a7a6",
   "metadata": {},
   "outputs": [
    {
     "data": {
      "text/plain": [
       "'Hello, world!'"
      ]
     },
     "execution_count": 2,
     "metadata": {},
     "output_type": "execute_result"
    }
   ],
   "source": [
    "L[3]\n"
   ]
  },
  {
   "cell_type": "code",
   "execution_count": 3,
   "id": "c8ee52ce",
   "metadata": {},
   "outputs": [
    {
     "data": {
      "text/plain": [
       "[1, 2, 3]"
      ]
     },
     "execution_count": 3,
     "metadata": {},
     "output_type": "execute_result"
    }
   ],
   "source": [
    "#Create lists with the list() func - no repetition no order\n",
    "list({1,2,3,3})"
   ]
  },
  {
   "cell_type": "code",
   "execution_count": 4,
   "id": "99ca0c0e",
   "metadata": {},
   "outputs": [
    {
     "data": {
      "text/plain": [
       "True"
      ]
     },
     "execution_count": 4,
     "metadata": {},
     "output_type": "execute_result"
    }
   ],
   "source": [
    "# Using negative indexes\n",
    "L[-1]"
   ]
  },
  {
   "cell_type": "code",
   "execution_count": 5,
   "id": "179fb35e",
   "metadata": {},
   "outputs": [
    {
     "data": {
      "text/plain": [
       "'Hello, world!'"
      ]
     },
     "execution_count": 5,
     "metadata": {},
     "output_type": "execute_result"
    }
   ],
   "source": [
    "L[-3] # third last element\n"
   ]
  },
  {
   "cell_type": "code",
   "execution_count": 6,
   "id": "502f31d4",
   "metadata": {},
   "outputs": [
    {
     "data": {
      "text/plain": [
       "3"
      ]
     },
     "execution_count": 6,
     "metadata": {},
     "output_type": "execute_result"
    }
   ],
   "source": [
    "L[-4]"
   ]
  },
  {
   "cell_type": "code",
   "execution_count": 7,
   "id": "6c6e1adf",
   "metadata": {},
   "outputs": [
    {
     "data": {
      "text/plain": [
       "[0, 2, 4, 6, 8, 10, 12, 14, 16, 18]"
      ]
     },
     "execution_count": 7,
     "metadata": {},
     "output_type": "execute_result"
    }
   ],
   "source": [
    "# In built functions for creating iterables\n",
    "list(range(0, 20, 2))"
   ]
  },
  {
   "cell_type": "code",
   "execution_count": 8,
   "id": "87aa54c5",
   "metadata": {},
   "outputs": [
    {
     "data": {
      "text/plain": [
       "[0, 1, 2, 3, 4, 5, 6, 7, 8, 9, 10, 11, 12, 13, 14, 15, 16, 17, 18, 19]"
      ]
     },
     "execution_count": 8,
     "metadata": {},
     "output_type": "execute_result"
    }
   ],
   "source": [
    "# In built functions for creating iterables\n",
    "L = list(range(20))\n",
    "L"
   ]
  },
  {
   "cell_type": "code",
   "execution_count": 9,
   "id": "3ee5ca97",
   "metadata": {},
   "outputs": [
    {
     "data": {
      "text/plain": [
       "[1, 3, 5, 7, 9]"
      ]
     },
     "execution_count": 9,
     "metadata": {},
     "output_type": "execute_result"
    }
   ],
   "source": [
    "# List slicing.\n",
    "L[1:10:2]"
   ]
  },
  {
   "cell_type": "code",
   "execution_count": 10,
   "id": "e1f76902",
   "metadata": {},
   "outputs": [
    {
     "data": {
      "text/plain": [
       "[0, 1, 2, 3, 4]"
      ]
     },
     "execution_count": 10,
     "metadata": {},
     "output_type": "execute_result"
    }
   ],
   "source": [
    "# List slicing.\n",
    "L[:5]"
   ]
  },
  {
   "cell_type": "code",
   "execution_count": 11,
   "id": "ed9f45d3",
   "metadata": {},
   "outputs": [
    {
     "data": {
      "text/plain": [
       "[1, 2, 3, 4, 5, 6, 7, 8, 9, 10, 11, 12, 13, 14, 15, 16, 17, 18, 19, 0]"
      ]
     },
     "execution_count": 11,
     "metadata": {},
     "output_type": "execute_result"
    }
   ],
   "source": [
    "# Quick way to cycle list to left\n",
    "L[1:] + L[:1]"
   ]
  },
  {
   "cell_type": "code",
   "execution_count": 12,
   "id": "ea4964d5",
   "metadata": {},
   "outputs": [],
   "source": [
    "# Tuples like lists but immutable\n",
    "T  = (1, 2, 3, 4)"
   ]
  },
  {
   "cell_type": "code",
   "execution_count": 13,
   "id": "c33f7ae5",
   "metadata": {},
   "outputs": [
    {
     "data": {
      "text/plain": [
       "1"
      ]
     },
     "execution_count": 13,
     "metadata": {},
     "output_type": "execute_result"
    }
   ],
   "source": [
    "T[0]"
   ]
  },
  {
   "cell_type": "code",
   "execution_count": 14,
   "id": "d861bf01",
   "metadata": {},
   "outputs": [
    {
     "data": {
      "text/plain": [
       "(4,)"
      ]
     },
     "execution_count": 14,
     "metadata": {},
     "output_type": "execute_result"
    }
   ],
   "source": [
    "T[3:]"
   ]
  },
  {
   "cell_type": "code",
   "execution_count": 15,
   "id": "73bdbb7c",
   "metadata": {},
   "outputs": [],
   "source": [
    "#T[1]= 100 - not possible"
   ]
  },
  {
   "cell_type": "code",
   "execution_count": 16,
   "id": "730aed3b",
   "metadata": {},
   "outputs": [
    {
     "data": {
      "text/plain": [
       "(1, 2, 3, 4)"
      ]
     },
     "execution_count": 16,
     "metadata": {},
     "output_type": "execute_result"
    }
   ],
   "source": [
    "# Tuples created with commas, as opposed to round brackets.\n",
    "T = 1, 2, 3, 4\n",
    "T"
   ]
  },
  {
   "cell_type": "code",
   "execution_count": 17,
   "id": "d424fb27",
   "metadata": {},
   "outputs": [
    {
     "data": {
      "text/plain": [
       "590899387183067792"
      ]
     },
     "execution_count": 17,
     "metadata": {},
     "output_type": "execute_result"
    }
   ],
   "source": [
    "hash(T) # cant hash a list, hash gives fixed byte size/length"
   ]
  },
  {
   "cell_type": "code",
   "execution_count": 18,
   "id": "56fb36d5",
   "metadata": {},
   "outputs": [
    {
     "data": {
      "text/plain": [
       "3"
      ]
     },
     "execution_count": 18,
     "metadata": {},
     "output_type": "execute_result"
    }
   ],
   "source": [
    "# You can use tuples for assignment.\n",
    "a, b = 3, 4\n",
    "a\n"
   ]
  },
  {
   "cell_type": "code",
   "execution_count": 19,
   "id": "c68f571d",
   "metadata": {},
   "outputs": [
    {
     "data": {
      "text/plain": [
       "4"
      ]
     },
     "execution_count": 19,
     "metadata": {},
     "output_type": "execute_result"
    }
   ],
   "source": [
    "b\n"
   ]
  },
  {
   "cell_type": "code",
   "execution_count": 20,
   "id": "446a6f3b",
   "metadata": {},
   "outputs": [],
   "source": [
    "# Nice trick for swapping two values\n",
    "a, b = b, a"
   ]
  },
  {
   "cell_type": "code",
   "execution_count": 21,
   "id": "5a7c6ba3",
   "metadata": {},
   "outputs": [
    {
     "data": {
      "text/plain": [
       "4"
      ]
     },
     "execution_count": 21,
     "metadata": {},
     "output_type": "execute_result"
    }
   ],
   "source": [
    "a\n"
   ]
  },
  {
   "cell_type": "code",
   "execution_count": 22,
   "id": "fd20f29c",
   "metadata": {},
   "outputs": [
    {
     "data": {
      "text/plain": [
       "3"
      ]
     },
     "execution_count": 22,
     "metadata": {},
     "output_type": "execute_result"
    }
   ],
   "source": [
    "b"
   ]
  },
  {
   "cell_type": "code",
   "execution_count": 23,
   "id": "354287f7",
   "metadata": {},
   "outputs": [
    {
     "data": {
      "text/plain": [
       "[0, 1, 2, 3, 4, 5, 6, 7, 8, 9]"
      ]
     },
     "execution_count": 23,
     "metadata": {},
     "output_type": "execute_result"
    }
   ],
   "source": [
    "#List of integers\n",
    "L = list(range(10))\n",
    "L"
   ]
  },
  {
   "cell_type": "code",
   "execution_count": 24,
   "id": "6749dadb",
   "metadata": {},
   "outputs": [
    {
     "data": {
      "text/plain": [
       "[0, 8, 64, 216, 512]"
      ]
     },
     "execution_count": 24,
     "metadata": {},
     "output_type": "execute_result"
    }
   ],
   "source": [
    "# List comprehension - mini for loop built in\n",
    "[i**3 for i in L if i % 2 == 0]"
   ]
  },
  {
   "cell_type": "code",
   "execution_count": 25,
   "id": "52ee9535",
   "metadata": {},
   "outputs": [
    {
     "data": {
      "text/plain": [
       "[9, 8, 7, 6, 5, 4, 3, 2, 1, 0]"
      ]
     },
     "execution_count": 25,
     "metadata": {},
     "output_type": "execute_result"
    }
   ],
   "source": [
    "# Curve Ball.\n",
    "L[::-1]"
   ]
  },
  {
   "cell_type": "markdown",
   "id": "dbc7aedd",
   "metadata": {},
   "source": [
    "<br>\n",
    "\n",
    "## Bubble Sort"
   ]
  },
  {
   "cell_type": "code",
   "execution_count": 26,
   "id": "0d66fa09",
   "metadata": {},
   "outputs": [],
   "source": [
    "# Import a module from the standard library.\n",
    "import random"
   ]
  },
  {
   "cell_type": "code",
   "execution_count": 27,
   "id": "8b79e416",
   "metadata": {},
   "outputs": [
    {
     "data": {
      "text/plain": [
       "[1, 2, 3, 4, 5, 6, 7, 8, 9, 10]"
      ]
     },
     "execution_count": 27,
     "metadata": {},
     "output_type": "execute_result"
    }
   ],
   "source": [
    "#Create a list of integers.\n",
    "L = list(range(1, 11))\n",
    "L"
   ]
  },
  {
   "cell_type": "code",
   "execution_count": 28,
   "id": "7dfd8d73",
   "metadata": {},
   "outputs": [],
   "source": [
    "#shuffle list\n",
    "random.shuffle(L)"
   ]
  },
  {
   "cell_type": "code",
   "execution_count": 29,
   "id": "ba1d5037",
   "metadata": {
    "scrolled": true
   },
   "outputs": [
    {
     "data": {
      "text/plain": [
       "[7, 9, 4, 6, 8, 3, 5, 1, 10, 2]"
      ]
     },
     "execution_count": 29,
     "metadata": {},
     "output_type": "execute_result"
    }
   ],
   "source": [
    "#List is shuffled\n",
    "L"
   ]
  },
  {
   "cell_type": "code",
   "execution_count": 43,
   "id": "9753c9fc",
   "metadata": {},
   "outputs": [],
   "source": [
    "#bble sort as a function\n",
    "def bubble_sort(L):\n",
    "    #bubble sort - usually a great algorithm but is terrible for n2\n",
    "    #keep track of comparisons\n",
    "    no_comparisons = 0\n",
    "\n",
    "    #for all elements in list\n",
    "    #\"bubbles\" ever element up \n",
    "    for j in range(len(L) - 1):\n",
    "        #keep track of any swaps.\n",
    "        swapped = False\n",
    "        for i in range(len(L) - 1 - j):\n",
    "        #compare nth element with i+1\n",
    "            if L[i] > L[i+1]:\n",
    "                # swap them\n",
    "                L[i], L[i+1] = L[i+1], L[i]\n",
    "                #keep track of swaps\n",
    "                swapped = True\n",
    "            #add a comparison.\n",
    "            no_comparisons = no_comparisons + 1\n",
    "        #Quit if we didnt make any swaps.\n",
    "        if not swapped:\n",
    "            break\n",
    "    # Return the number of comparisons made.\n",
    "    return no_comparisons"
   ]
  },
  {
   "cell_type": "code",
   "execution_count": 44,
   "id": "3266e7d8",
   "metadata": {},
   "outputs": [
    {
     "data": {
      "text/plain": [
       "[2, 10, 8, 3, 4, 7, 5, 9, 1, 6]"
      ]
     },
     "execution_count": 44,
     "metadata": {},
     "output_type": "execute_result"
    }
   ],
   "source": [
    "#Create a list of integers.\n",
    "L = list(range(1, 11))\n",
    "\n",
    "#shuffle it\n",
    "random.shuffle(L)\n",
    "\n",
    "#look at it\n",
    "L"
   ]
  },
  {
   "cell_type": "code",
   "execution_count": 45,
   "id": "2acec37e",
   "metadata": {},
   "outputs": [
    {
     "data": {
      "text/plain": [
       "45"
      ]
     },
     "execution_count": 45,
     "metadata": {},
     "output_type": "execute_result"
    }
   ],
   "source": [
    "bubble_sort(L)"
   ]
  },
  {
   "cell_type": "code",
   "execution_count": 46,
   "id": "06bd64d9",
   "metadata": {},
   "outputs": [
    {
     "data": {
      "text/plain": [
       "[1, 2, 3, 4, 5, 6, 7, 8, 9, 10]"
      ]
     },
     "execution_count": 46,
     "metadata": {},
     "output_type": "execute_result"
    }
   ],
   "source": [
    "L"
   ]
  },
  {
   "cell_type": "markdown",
   "id": "84df3201",
   "metadata": {},
   "source": [
    "# once sorted list, bubble sort is O(n)\n"
   ]
  },
  {
   "cell_type": "code",
   "execution_count": 47,
   "id": "45bfb6a9",
   "metadata": {},
   "outputs": [
    {
     "data": {
      "text/plain": [
       "[10, 9, 8, 7, 6, 5, 4, 3, 2, 1]"
      ]
     },
     "execution_count": 47,
     "metadata": {},
     "output_type": "execute_result"
    }
   ],
   "source": [
    "#The worst case for bubble sort is reverse list\n",
    "L[::-1]"
   ]
  },
  {
   "cell_type": "code",
   "execution_count": 49,
   "id": "763517c2",
   "metadata": {},
   "outputs": [
    {
     "data": {
      "text/plain": [
       "45"
      ]
     },
     "execution_count": 49,
     "metadata": {},
     "output_type": "execute_result"
    }
   ],
   "source": [
    "#This is still O(n2)\n",
    "bubble_sort(L[::-1])"
   ]
  },
  {
   "cell_type": "code",
   "execution_count": null,
   "id": "b0924a32",
   "metadata": {},
   "outputs": [],
   "source": []
  }
 ],
 "metadata": {
  "kernelspec": {
   "display_name": "Python 3 (ipykernel)",
   "language": "python",
   "name": "python3"
  },
  "language_info": {
   "codemirror_mode": {
    "name": "ipython",
    "version": 3
   },
   "file_extension": ".py",
   "mimetype": "text/x-python",
   "name": "python",
   "nbconvert_exporter": "python",
   "pygments_lexer": "ipython3",
   "version": "3.9.7"
  }
 },
 "nbformat": 4,
 "nbformat_minor": 5
}
